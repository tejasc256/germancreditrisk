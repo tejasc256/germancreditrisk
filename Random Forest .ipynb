{
 "cells": [
  {
   "cell_type": "code",
   "execution_count": 1,
   "metadata": {},
   "outputs": [],
   "source": [
    "import numpy\n",
    "import pandas as pd\n",
    "from sklearn.ensemble import RandomForestClassifier\n",
    "df = pd.read_csv('training.csv')  #Initialisation"
   ]
  },
  {
   "cell_type": "code",
   "execution_count": 2,
   "metadata": {},
   "outputs": [],
   "source": [
    "#Creating lists X and Y to input into the fit method\n",
    "X = []\n",
    "Y = df[df.columns[1]].tolist()\n",
    "for i in range(500):\n",
    "    x = df.iloc[i,2:22].tolist()\n",
    "    X.append(x)  "
   ]
  },
  {
   "cell_type": "code",
   "execution_count": 3,
   "metadata": {
    "scrolled": true
   },
   "outputs": [
    {
     "data": {
      "text/plain": [
       "RandomForestClassifier(bootstrap=True, class_weight=None, criterion='gini',\n",
       "            max_depth=2, max_features='auto', max_leaf_nodes=None,\n",
       "            min_impurity_decrease=0.0, min_impurity_split=None,\n",
       "            min_samples_leaf=3, min_samples_split=2,\n",
       "            min_weight_fraction_leaf=0.0, n_estimators=25, n_jobs=1,\n",
       "            oob_score=False, random_state=2, verbose=0, warm_start=False)"
      ]
     },
     "execution_count": 3,
     "metadata": {},
     "output_type": "execute_result"
    }
   ],
   "source": [
    "#X, y = make_classification(n_samples=500, n_features= 20, n_informative=2, n_redundant=0, random_state=0, shuffle=False)\n",
    "clf = RandomForestClassifier(n_estimators=25, max_depth=2, random_state=2, min_samples_leaf = 3)\n",
    "clf.fit(X, Y)"
   ]
  },
  {
   "cell_type": "code",
   "execution_count": 5,
   "metadata": {},
   "outputs": [],
   "source": [
    "#Checking Accuracy\n",
    "df1 = pd.read_csv('test.csv')\n",
    "Xtest = []\n",
    "for i in range(500):\n",
    "    x = df1.iloc[i, 2:22].tolist()\n",
    "    Xtest.append(x)\n",
    "Ypredict = clf.predict(Xtest)\n",
    "#print(Ypredict)\n",
    "#print(Y)"
   ]
  },
  {
   "cell_type": "code",
   "execution_count": 6,
   "metadata": {},
   "outputs": [
    {
     "name": "stdout",
     "output_type": "stream",
     "text": [
      "72.0\n",
      "[[356, 1], [139, 4]]\n"
     ]
    }
   ],
   "source": [
    "table = [[0,0], [0,0]]\n",
    "for i in range(500):\n",
    "    if(Ypredict[i] == 1 and Y[i] == 1):\n",
    "        table[0][0] = table[0][0] + 1\n",
    "        #correct = correct + 1\n",
    "    elif(Ypredict[i] == 0 and Y[i] == 1):\n",
    "        table[0][1] = table[0][1] + 1\n",
    "    elif(Ypredict[i] == 1 and Y[i] == 0):\n",
    "        table[1][0] = table[1][0] + 1 \n",
    "    else:\n",
    "        table[1][1] = table[1][1] + 1\n",
    "#correct = (correct/5)\n",
    "#print('Accuracy = ', correct, '%')\n",
    "accuracy =  ( table[0][0] + table[1][1] ) / 500\n",
    "print(accuracy*100)\n",
    "print(table)"
   ]
  },
  {
   "cell_type": "code",
   "execution_count": 13,
   "metadata": {},
   "outputs": [
    {
     "name": "stdout",
     "output_type": "stream",
     "text": [
      "                Creditable  Non-Creditable\n",
      "Creditable             356               1\n",
      "Non-Creditable         139               4\n"
     ]
    }
   ],
   "source": [
    "finaltable = pd.DataFrame(table, columns = ['Creditable', 'Non-Creditable'], index = ['Creditable', 'Non-Creditable'])\n",
    "print(finaltable)"
   ]
  },
  {
   "cell_type": "code",
   "execution_count": 12,
   "metadata": {},
   "outputs": [
    {
     "name": "stdout",
     "output_type": "stream",
     "text": [
      "Profit per applicant =  0.03459999999999999\n",
      "Profit  17.299999999999997\n"
     ]
    }
   ],
   "source": [
    "#Cost Profit Analysis\n",
    "profit_percentage = 0.40\n",
    "loss_percentage = 0.9\n",
    "profit = (table[0][0] * profit_percentage) - (table[1][0] * loss_percentage)\n",
    "print(\"Profit per applicant = \", profit/500)\n",
    "print(\"Profit \", profit)"
   ]
  },
  {
   "cell_type": "code",
   "execution_count": null,
   "metadata": {},
   "outputs": [],
   "source": []
  }
 ],
 "metadata": {
  "kernelspec": {
   "display_name": "Python 3",
   "language": "python",
   "name": "python3"
  },
  "language_info": {
   "codemirror_mode": {
    "name": "ipython",
    "version": 3
   },
   "file_extension": ".py",
   "mimetype": "text/x-python",
   "name": "python",
   "nbconvert_exporter": "python",
   "pygments_lexer": "ipython3",
   "version": "3.6.5"
  }
 },
 "nbformat": 4,
 "nbformat_minor": 2
}
