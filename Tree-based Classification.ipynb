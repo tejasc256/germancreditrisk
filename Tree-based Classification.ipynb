{
 "cells": [
  {
   "cell_type": "code",
   "execution_count": 2,
   "metadata": {},
   "outputs": [],
   "source": [
    "import numpy\n",
    "import pandas as pd\n",
    "from sklearn import tree \n",
    "df = pd.read_csv('training.csv')  #Initialisation\n",
    "#df.head()"
   ]
  },
  {
   "cell_type": "code",
   "execution_count": 3,
   "metadata": {},
   "outputs": [],
   "source": [
    "#Creating lists X and Y to input into the fix method\n",
    "X = []\n",
    "Y = df[df.columns[1]].tolist()\n",
    "for i in range(500):\n",
    "    x = df.iloc[i,2:22].tolist()\n",
    "    X.append(x)  "
   ]
  },
  {
   "cell_type": "code",
   "execution_count": 4,
   "metadata": {
    "scrolled": true
   },
   "outputs": [
    {
     "data": {
      "text/plain": [
       "DecisionTreeClassifier(class_weight=None, criterion='gini', max_depth=6,\n",
       "            max_features=None, max_leaf_nodes=None,\n",
       "            min_impurity_decrease=0.0, min_impurity_split=None,\n",
       "            min_samples_leaf=20, min_samples_split=2,\n",
       "            min_weight_fraction_leaf=0.0, presort=False, random_state=2,\n",
       "            splitter='best')"
      ]
     },
     "execution_count": 4,
     "metadata": {},
     "output_type": "execute_result"
    }
   ],
   "source": [
    "#Using the tree classifier\n",
    "clf = tree.DecisionTreeClassifier(max_depth = 6, min_samples_leaf = 20, splitter='best', random_state = 2 )\n",
    "clf.fit(X, Y)"
   ]
  },
  {
   "cell_type": "code",
   "execution_count": 5,
   "metadata": {},
   "outputs": [],
   "source": [
    "#Checking Accuracy\n",
    "df1 = pd.read_csv('test.csv')\n",
    "Xtest = []\n",
    "for i in range(500):\n",
    "    x = df1.iloc[i, 2:22].tolist()\n",
    "    Xtest.append(x)\n",
    "Ypredict = clf.predict(Xtest)\n",
    "#print(Ypredict)\n",
    "#print(Y)"
   ]
  },
  {
   "cell_type": "code",
   "execution_count": 6,
   "metadata": {},
   "outputs": [
    {
     "name": "stdout",
     "output_type": "stream",
     "text": [
      "66.8\n",
      "[[314, 43], [123, 20]]\n"
     ]
    }
   ],
   "source": [
    "table = [[0,0], [0,0]]\n",
    "for i in range(500):\n",
    "    if(Ypredict[i] == 1 and Y[i] == 1):\n",
    "        table[0][0] = table[0][0] + 1\n",
    "        #correct = correct + 1\n",
    "    elif(Ypredict[i] == 0 and Y[i] == 1):\n",
    "        table[0][1] = table[0][1] + 1\n",
    "    elif(Ypredict[i] == 1 and Y[i] == 0):\n",
    "        table[1][0] = table[1][0] + 1 \n",
    "    else:\n",
    "        table[1][1] = table[1][1] + 1\n",
    "#correct = (correct/5)\n",
    "#print('Accuracy = ', correct, '%')\n",
    "accuracy =  ( table[0][0] + table[1][1] ) / 500\n",
    "print(accuracy*100)\n",
    "print(table)"
   ]
  },
  {
   "cell_type": "code",
   "execution_count": 7,
   "metadata": {},
   "outputs": [
    {
     "name": "stdout",
     "output_type": "stream",
     "text": [
      "                Creditable  Non-Creditable\n",
      "Creditable             314              43\n",
      "Non-Creditable         123              20\n"
     ]
    }
   ],
   "source": [
    "finaltable = pd.DataFrame(table, columns = ['Creditable', 'Non-Creditable'], index = ['Creditable', 'Non-Creditable'])\n",
    "print(finaltable)"
   ]
  },
  {
   "cell_type": "code",
   "execution_count": 8,
   "metadata": {},
   "outputs": [
    {
     "name": "stdout",
     "output_type": "stream",
     "text": [
      "Profit per applicant =  0.02980000000000001\n",
      "Total Profit =  14.900000000000006\n"
     ]
    }
   ],
   "source": [
    "#Cost Profit Analysis\n",
    "profit_percentage = 0.40\n",
    "loss_percentage = 0.9\n",
    "profit = (table[0][0] * profit_percentage) - (table[1][0] * loss_percentage)\n",
    "print(\"Profit per applicant = \", profit/500)\n",
    "print(\"Total Profit = \", profit)"
   ]
  },
  {
   "cell_type": "code",
   "execution_count": 9,
   "metadata": {},
   "outputs": [
    {
     "data": {
      "text/plain": [
       "'testdatagraph.pdf'"
      ]
     },
     "execution_count": 9,
     "metadata": {},
     "output_type": "execute_result"
    }
   ],
   "source": [
    "#Visualising the tree\n",
    "import graphviz\n",
    "dotdata = tree.export_graphviz(clf, out_file=None)\n",
    "graph = graphviz.Source(dotdata)\n",
    "graph.render(\"testdatagraph\")"
   ]
  }
 ],
 "metadata": {
  "kernelspec": {
   "display_name": "Python 3",
   "language": "python",
   "name": "python3"
  },
  "language_info": {
   "codemirror_mode": {
    "name": "ipython",
    "version": 3
   },
   "file_extension": ".py",
   "mimetype": "text/x-python",
   "name": "python",
   "nbconvert_exporter": "python",
   "pygments_lexer": "ipython3",
   "version": "3.6.5"
  }
 },
 "nbformat": 4,
 "nbformat_minor": 2
}
